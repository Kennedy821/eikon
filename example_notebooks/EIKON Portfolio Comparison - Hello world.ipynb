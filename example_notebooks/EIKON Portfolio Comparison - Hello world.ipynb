{
 "cells": [
  {
   "cell_type": "code",
   "execution_count": null,
   "id": "a370b29c-c741-4eac-a9da-794f65640e5a",
   "metadata": {},
   "outputs": [],
   "source": [
    "# pip install --upgrade eikonsai"
   ]
  },
  {
   "cell_type": "code",
   "execution_count": null,
   "id": "8cd55a5b-5eb1-4428-ab0a-c2423727eacc",
   "metadata": {},
   "outputs": [],
   "source": [
    "# note you should upgrade to eikonsai version 0.9.1 to use the jobs module\n",
    "import eikonsai as eikon"
   ]
  },
  {
   "cell_type": "code",
   "execution_count": null,
   "id": "7b8818fe-cbf3-4cf2-acd7-fafd845d1996",
   "metadata": {},
   "outputs": [],
   "source": [
    "my_api_key =  eikon.utils.get_api_key_from_credentials(\"<my_email>\",\n",
    "                                         \"<my_password>\")"
   ]
  },
  {
   "cell_type": "markdown",
   "id": "f1c784b3-714c-4351-8079-106fb1631085",
   "metadata": {},
   "source": [
    "The main arguments to be aware of is the \"similarity_type argument\" as well as the \"resolution\" argument.\n",
    "\n",
    "**similarity_type**: [\"visual\", \"descriptive\", \"combined\"]\n",
    "\n",
    "**resolution**: [\"low\", \"medium\", \"high\"]\n",
    "\n",
    "Similarity type relates to what representation of similarity you are interested in understanding across the portfolio of sites.\n",
    "\n",
    "Resolution refers to what spatial resolution you are most interested in using for your comparison. \"Low\" resolution will typically relate to larger areas of 2.5km or so compared to \"High\" resolution which will typically be ~500m. Note the portfolio comparison function is usage based meaning it more credits will be consumed when running an an analysis of London at the \"High\" resolution compared to \"Medium\" resolution. There is no difference in credit consumption based on whether you select \"visual\", \"descriptive\" or \"combined\" similarity types."
   ]
  },
  {
   "cell_type": "code",
   "execution_count": null,
   "id": "fe22f0a7-b83b-4ca9-92ab-1615fe8c340d",
   "metadata": {},
   "outputs": [],
   "source": [
    "import pandas as pd\n",
    "import requests\n",
    "import h3\n",
    "import json\n",
    "\n",
    "london_hex_cells = [\"84194adffffffff\",\"84194e7ffffffff\",\"84195dbffffffff\"]\n",
    "\n",
    "desired_location = \"89195da5e7bffff\" # this is wembley stadium at H9\n",
    "\n",
    "target_locations = flatten_list([list(h3.h3_to_children(x,9)) for x in london_hex_cells])\n"
   ]
  },
  {
   "cell_type": "code",
   "execution_count": null,
   "id": "90d572aa-5ddf-4eda-a000-5e80da06984f",
   "metadata": {},
   "outputs": [],
   "source": [
    "# area_to_survey = \"85195d37fffffff\" # this is the H5 cell that contains Heathrow (Hillingdon)\n",
    "\n",
    "# we're going to get all the level 9 children locations \n",
    "# target_locations = list(h3.h3_to_children(\"84195dbffffffff\",8))\n",
    "\n",
    "# next we're going to construct a comparison dataframe and then use this to send our location pair lists to the API\n",
    "desired_df = pd.DataFrame([desired_location])\n",
    "desired_df.columns = [\"orig\"]\n",
    "desired_df[\"merge_col\"] = \"merge\"\n",
    "\n",
    "target_df = pd.DataFrame([target_locations]).T\n",
    "target_df.columns = [\"dest\"]\n",
    "target_df[\"merge_col\"] = \"merge\"\n",
    "\n",
    "# merge these together to create the location df\n",
    "location_df = desired_df.merge(target_df, on=[\"merge_col\"]).drop(columns=\"merge_col\")\n",
    "\n",
    "lat = location_df[\"orig\"].apply(lambda x: h3.h3_to_geo(x)).str[0]\n",
    "lon = location_df[\"orig\"].apply(lambda x: h3.h3_to_geo(x)).str[1]\n",
    "\n",
    "location_df[\"orig_latitude\"] = lat\n",
    "location_df[\"orig_longitude\"] = lon\n",
    "lat = location_df[\"dest\"].apply(lambda x: h3.h3_to_geo(x)).str[0]\n",
    "lon = location_df[\"dest\"].apply(lambda x: h3.h3_to_geo(x)).str[1]\n",
    "location_df[\"dest_latitude\"] = lat\n",
    "location_df[\"dest_longitude\"] = lon\n",
    "location_df = location_df.head(100) # remove the head to process the entire dataframe\n",
    "location_df"
   ]
  },
  {
   "cell_type": "code",
   "execution_count": null,
   "id": "9a3fbec7-70ea-43bc-b28f-8067e310c889",
   "metadata": {},
   "outputs": [],
   "source": [
    "%%time\n",
    "comparison_df = eikon.jobs.eikon_portfolio_comparison(orig_uniq_id=location_df[\"orig\"].tolist(),\n",
    "                           dest_uniq_id=location_df[\"dest\"].tolist(),\n",
    "                           orig_lat_list=location_df[\"orig_latitude\"].tolist(),\n",
    "                           orig_lon_list=location_df[\"orig_longitude\"].tolist(),\n",
    "                           dest_lat_list=location_df[\"dest_latitude\"].tolist(),\n",
    "                           dest_lon_list=location_df[\"dest_longitude\"].tolist(),\n",
    "                           user_api_key=my_api_key,\n",
    "                           resolution=\"high\",\n",
    "                           similarity_type=\"combined\"\n",
    "                          )"
   ]
  },
  {
   "cell_type": "code",
   "execution_count": null,
   "id": "60e02f78-5594-459f-a821-77c6555ca9ed",
   "metadata": {},
   "outputs": [],
   "source": [
    "comparison_df"
   ]
  },
  {
   "cell_type": "code",
   "execution_count": null,
   "id": "c44910ee-7768-4dbc-8829-8624152d65fa",
   "metadata": {},
   "outputs": [],
   "source": []
  }
 ],
 "metadata": {
  "kernelspec": {
   "display_name": "Python 3 (ipykernel)",
   "language": "python",
   "name": "python3"
  },
  "language_info": {
   "codemirror_mode": {
    "name": "ipython",
    "version": 3
   },
   "file_extension": ".py",
   "mimetype": "text/x-python",
   "name": "python",
   "nbconvert_exporter": "python",
   "pygments_lexer": "ipython3",
   "version": "3.9.22"
  }
 },
 "nbformat": 4,
 "nbformat_minor": 5
}
