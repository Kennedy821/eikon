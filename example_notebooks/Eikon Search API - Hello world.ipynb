{
 "cells": [
  {
   "cell_type": "code",
   "execution_count": null,
   "id": "e9326156-6d9d-4a0e-8a06-4020d440cb95",
   "metadata": {},
   "outputs": [],
   "source": [
    "# pip install --upgrade eikonsai"
   ]
  },
  {
   "cell_type": "code",
   "execution_count": null,
   "id": "93f83159-423b-44b9-95ec-9e33d8ef40b6",
   "metadata": {},
   "outputs": [],
   "source": [
    "# note you should upgrade to eikonsai version 0.9.1 to use the jobs module\n",
    "import eikonsai as eikon"
   ]
  },
  {
   "cell_type": "code",
   "execution_count": null,
   "id": "30178417-2ec5-49f3-b0a3-3ab329c345fd",
   "metadata": {},
   "outputs": [],
   "source": [
    "my_api_key =  eikon.utils.get_api_key_from_credentials(\"<my_email>\",\n",
    "                                         \"<my_password>\")"
   ]
  },
  {
   "attachments": {},
   "cell_type": "markdown",
   "id": "419b5198-771d-45fe-86dd-7ceafcfcfd6f",
   "metadata": {},
   "source": [
    "The main arguments to be aware of is the effort_selection argument as well as the spatial_resolution_for_search argument.\n",
    "\n",
    "**effort_selection**: [\"test\", \"quick\", \"moderate\", \"exhaustive\"]\n",
    "\n",
    "**spatial_resolution_for_search**: [\"London - all\", \"London - boroughs\"]\n",
    "\n",
    "\n",
    "If you have selected London - boroughs please specify which of the following London boroughs you would like to constrain your analysis to:\n",
    "\n",
    "* Barking and Dagenham,\n",
    "* Barnet\n",
    "* Bexley\n",
    "* Brent\n",
    "* Bromley\n",
    "* Camden\n",
    "* City of London\n",
    "* Croydon\n",
    "* Ealing\n",
    "* Enfield\n",
    "* Greenwich\n",
    "* Hackney\n",
    "* Hammersmith and Fulham\n",
    "* Haringey\n",
    "* Harrow\n",
    "* Havering\n",
    "* Hillingdon\n",
    "* Hounslow\n",
    "* Islington\n",
    "* Kensington and Chelsea\n",
    "* Kingston upon Thames\n",
    "* Lambeth\n",
    "* Lewisham\n",
    "* Merton\n",
    "* Newham\n",
    "* Redbridge\n",
    "* Richmond upon Thames\n",
    "* Southwark\n",
    "* Sutton\n",
    "* Tower Hamlets\n",
    "* Waltham Forest\n",
    "* Wandsworth\n",
    "* Westminster\n",
    "  "
   ]
  },
  {
   "cell_type": "code",
   "execution_count": null,
   "id": "059d4f83-747a-4f50-b194-b513fc5cd8fd",
   "metadata": {},
   "outputs": [],
   "source": [
    "# to use the search_api specificy what you want to find\n",
    "\n",
    "my_prompt = \"I'm looking for an airport.\"\n",
    "\n",
    "output_df = eikon.jobs.search_api(my_search_prompt=my_prompt,\n",
    "                       user_api_key=my_api_key,\n",
    "                       effort_selection=\"test\",\n",
    "                       spatial_resolution_for_search=\"London - all\",\n",
    "                      )\n",
    "\n",
    "output_df\n"
   ]
  },
  {
   "cell_type": "code",
   "execution_count": null,
   "id": "f5dd38fd-3098-4e8b-836a-19b6a039c74b",
   "metadata": {},
   "outputs": [],
   "source": [
    "# if you would like to constrain your response to a selected London Borough such as Hillingdon \n",
    "# this can be done using the selected_london_borough argument as shown below\n",
    "\n",
    "output_df = eikon.jobs.search_api(my_search_prompt=my_prompt,\n",
    "                       user_api_key=my_api_key,\n",
    "                       effort_selection=\"test\",\n",
    "                       spatial_resolution_for_search=\"London - all\",\n",
    "                       selected_london_borough=\"Hillingdon\"\n",
    "                      )\n",
    "\n",
    "output_df"
   ]
  }
 ],
 "metadata": {
  "kernelspec": {
   "display_name": "Python 3 (ipykernel)",
   "language": "python",
   "name": "python3"
  },
  "language_info": {
   "codemirror_mode": {
    "name": "ipython",
    "version": 3
   },
   "file_extension": ".py",
   "mimetype": "text/x-python",
   "name": "python",
   "nbconvert_exporter": "python",
   "pygments_lexer": "ipython3",
   "version": "3.9.22"
  }
 },
 "nbformat": 4,
 "nbformat_minor": 5
}
